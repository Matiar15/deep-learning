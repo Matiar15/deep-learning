{
 "cells": [
  {
   "metadata": {},
   "cell_type": "markdown",
   "source": [
    "## FashionMNIST Dataset\n",
    "\n",
    "- **FashionMNIST** is a dataset of Zalando article images.\n",
    "- It contains **70,000 images** of size 28x28 pixels.\n",
    "- The dataset has **10 classes**, each representing a different clothing item:\n",
    "  1. T-shirt/top\n",
    "  2. Trouser\n",
    "  3. Pullover\n",
    "  4. Dress\n",
    "  5. Coat\n",
    "  6. Sandal\n",
    "  7. Shirt\n",
    "  8. Sneaker\n",
    "  9. Bag\n",
    "  10. Ankle boot"
   ],
   "id": "9cc815ba606575ba"
  },
  {
   "metadata": {},
   "cell_type": "code",
   "outputs": [],
   "execution_count": null,
   "source": [
    "import matplotlib.pyplot as plt\n",
    "import torch.optim\n",
    "\n",
    "from torch.utils.data import random_split, DataLoader\n",
    "from torchvision import transforms, datasets\n",
    "\n",
    "from src.autoencoder import AutoEncoder\n",
    "from src.hyper_parameters import HyperParameters"
   ],
   "id": "7e93ba1a63605d16"
  },
  {
   "metadata": {},
   "cell_type": "markdown",
   "source": "## Initialize hyper-parameters",
   "id": "a8e1f478ac9606cb"
  },
  {
   "metadata": {},
   "cell_type": "code",
   "outputs": [],
   "execution_count": null,
   "source": [
    "hyper_params = HyperParameters(\n",
    "    learning_rate=0.001,\n",
    "    batch_size=128,\n",
    "    epochs=100,\n",
    ")"
   ],
   "id": "e27a8a14abca4781"
  },
  {
   "metadata": {},
   "cell_type": "markdown",
   "source": [
    "## Initialization dataset to transformation:\n",
    "\n",
    "- Convert to Grayscale (3 channels)\n",
    "- Convert to Tensor (convert scale from 0-255 to 0.0-1.0)"
   ],
   "id": "af36a7254e2ed887"
  },
  {
   "metadata": {},
   "cell_type": "code",
   "outputs": [],
   "execution_count": null,
   "source": [
    "transform = transforms.Compose([\n",
    "    transforms.Grayscale(num_output_channels=3),\n",
    "    transforms.ToTensor(),\n",
    "])\n",
    "\n",
    "dataset = datasets.FashionMNIST(\n",
    "    root=\"data\",\n",
    "    train=True,\n",
    "    download=True,\n",
    "    transform=transform\n",
    ")"
   ],
   "id": "518fbfd7bf73ca74"
  },
  {
   "metadata": {},
   "cell_type": "markdown",
   "source": [
    "## Dataset split and DataLoader preparation\n",
    "- Calculate the total dataset size: dataset_size = len(dataset)\n",
    "- Split the dataset into:\n",
    "  - train_dataset – 70% of the data\n",
    "  - val_dataset – 15% of the data\n",
    "  - test_dataset – remaining 15% of the data\n",
    "- Create DataLoaders for each split:\n",
    "  - batch_size=32\n",
    "  - shuffle=True for the training set\n",
    "  - num_workers=4 and pin_memory=True for faster data loading\n",
    "- Print dataset information:\n",
    "  - number of samples in each split\n",
    "  - number of classes\n",
    "  - list of class names\n"
   ],
   "id": "8adaefa5db6e1247"
  },
  {
   "metadata": {},
   "cell_type": "code",
   "outputs": [],
   "execution_count": null,
   "source": [
    "dataset_size = len(dataset)\n",
    "train_size = int(0.7 * dataset_size)\n",
    "val_size = int(0.15 * dataset_size)\n",
    "test_size = dataset_size - train_size - val_size\n",
    "train_dataset, val_dataset, test_dataset = random_split(dataset, [train_size, val_size, test_size])\n",
    "\n",
    "train_loader = DataLoader(train_dataset, batch_size=hyper_params.batch_size, shuffle=True, num_workers=4, pin_memory=True)\n",
    "val_loader = DataLoader(val_dataset, batch_size=hyper_params.batch_size, shuffle=False, num_workers=4, pin_memory=True)\n",
    "test_loader = DataLoader(test_dataset, batch_size=hyper_params.batch_size, shuffle=False, num_workers=4, pin_memory=True)\n",
    "\n",
    "classes_str = \", \".join(f\"{cls}\" for cls in dataset.classes)\n",
    "print(f\"Training samples: {len(train_dataset)} (70%)\")\n",
    "print(f\"Validation samples: {len(val_dataset)} (15%)\")\n",
    "print(f\"Test samples: {len(test_dataset)} (15%)\")\n",
    "print(f\"Number of classes: {len(dataset.classes)}\")\n",
    "print(f\"Classes: {classes_str}\")"
   ],
   "id": "f680f232a086437e"
  },
  {
   "metadata": {},
   "cell_type": "markdown",
   "source": [
    "## Display sample images from the training set\n",
    "\n",
    "- Retrieve a batch of images and labels from the training DataLoader\n",
    "- Display 10 sample images in a 2x5 grid\n",
    "- Rearrange tensor from (C, H, W) to (H, W, C) for proper visualization\n",
    "- Show corresponding class names as titles\n",
    "- Hide axes for a cleaner look"
   ],
   "id": "5b8e087728f95cbe"
  },
  {
   "metadata": {},
   "cell_type": "code",
   "outputs": [],
   "execution_count": null,
   "source": [
    "examples, labels = next(iter(train_loader))\n",
    "fig, axes = plt.subplots(2, 5, figsize=(8, 3))\n",
    "for i, ax in enumerate(axes.flat):\n",
    "    img = examples[i].permute(1, 2, 0)\n",
    "    ax.imshow(img)\n",
    "    ax.set_title(dataset.classes[labels[i]])\n",
    "    ax.axis(\"off\")\n",
    "plt.tight_layout()\n",
    "plt.show()"
   ],
   "id": "55ea584a88d3c9d3"
  },
  {
   "metadata": {},
   "cell_type": "markdown",
   "source": "## Initialize autoencoder",
   "id": "fa16e99d396d8d5b"
  },
  {
   "metadata": {},
   "cell_type": "code",
   "outputs": [],
   "execution_count": null,
   "source": "model = AutoEncoder()",
   "id": "127043e2a78b9cf2"
  },
  {
   "metadata": {},
   "cell_type": "markdown",
   "source": "## Set an optimizer",
   "id": "ecbad2154edd5009"
  },
  {
   "metadata": {},
   "cell_type": "code",
   "outputs": [],
   "execution_count": null,
   "source": [
    "criterion = torch.optim.Adam(\n",
    "    lr=hyper_params.learning_rate,\n",
    "    params=model.parameters(),\n",
    "    weight_decay=1e-8,\n",
    ")"
   ],
   "id": "4f0399c9cbe73a"
  },
  {
   "metadata": {},
   "cell_type": "code",
   "outputs": [],
   "execution_count": null,
   "source": "",
   "id": "3cea7ee0b29abb66"
  }
 ],
 "metadata": {
  "kernelspec": {
   "display_name": "Python 3",
   "language": "python",
   "name": "python3"
  },
  "language_info": {
   "codemirror_mode": {
    "name": "ipython",
    "version": 2
   },
   "file_extension": ".py",
   "mimetype": "text/x-python",
   "name": "python",
   "nbconvert_exporter": "python",
   "pygments_lexer": "ipython2",
   "version": "2.7.6"
  }
 },
 "nbformat": 4,
 "nbformat_minor": 5
}
