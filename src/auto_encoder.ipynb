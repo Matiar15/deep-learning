{
 "cells": [
  {
   "metadata": {},
   "cell_type": "code",
   "outputs": [],
   "execution_count": null,
   "source": [
    "from torch.utils.data import random_split, DataLoader\n",
    "from torchvision import transforms, datasets\n",
    "import matplotlib.pyplot as plt"
   ],
   "id": "84c522d7a7cc74f9"
  },
  {
   "metadata": {},
   "cell_type": "markdown",
   "source": [
    "## FashionMNIST Dataset\n",
    "\n",
    "- **FashionMNIST** is a dataset of Zalando article images.\n",
    "- It contains **70,000 images** of size 28x28 pixels.\n",
    "- The dataset has **10 classes**, each representing a different clothing item:\n",
    "  1. T-shirt/top\n",
    "  2. Trouser\n",
    "  3. Pullover\n",
    "  4. Dress\n",
    "  5. Coat\n",
    "  6. Sandal\n",
    "  7. Shirt\n",
    "  8. Sneaker\n",
    "  9. Bag\n",
    "  10. Ankle boot\n"
   ],
   "id": "e4a5045bec243310"
  },
  {
   "metadata": {},
   "cell_type": "markdown",
   "source": [
    "## Initialization dataset to transformation:\n",
    "\n",
    "- Convert to Grayscale (3 channels)\n",
    "- Convert to Tensor (convert scale from 0-255 to 0.0-1.0)"
   ],
   "id": "d3018374de298c46"
  },
  {
   "metadata": {},
   "cell_type": "code",
   "outputs": [],
   "execution_count": null,
   "source": [
    "transform = transforms.Compose([\n",
    "    transforms.Grayscale(num_output_channels=3),\n",
    "    transforms.ToTensor(),\n",
    "])\n",
    "\n",
    "dataset = datasets.FashionMNIST(\n",
    "    root=\"data\",\n",
    "    train=True,\n",
    "    download=True,\n",
    "    transform=transform\n",
    ")"
   ],
   "id": "8ec23463c88d9f4e"
  },
  {
   "metadata": {},
   "cell_type": "markdown",
   "source": [
    "## Dataset split and DataLoader preparation\n",
    "- Calculate the total dataset size: dataset_size = len(dataset)\n",
    "- Split the dataset into:\n",
    "  - train_dataset – 70% of the data\n",
    "  - val_dataset – 15% of the data\n",
    "  - test_dataset – remaining 15% of the data\n",
    "- Create DataLoaders for each split:\n",
    "  - batch_size=32\n",
    "  - shuffle=True for the training set\n",
    "  - num_workers=4 and pin_memory=True for faster data loading\n",
    "- Print dataset information:\n",
    "  - number of samples in each split\n",
    "  - number of classes\n",
    "  - list of class names\n"
   ],
   "id": "ec20418d036f53a8"
  },
  {
   "metadata": {
    "ExecuteTime": {
     "end_time": "2025-10-05T17:15:52.316758Z",
     "start_time": "2025-10-05T17:15:52.304840Z"
    }
   },
   "cell_type": "code",
   "source": [
    "dataset_size = len(dataset)\n",
    "train_size = int(0.7 * dataset_size)\n",
    "val_size = int(0.15 * dataset_size)\n",
    "test_size = dataset_size - train_size - val_size\n",
    "train_dataset, val_dataset, test_dataset = random_split(dataset, [train_size, val_size, test_size])\n",
    "\n",
    "train_loader = DataLoader(train_dataset, batch_size=32, shuffle=True, num_workers=4, pin_memory=True)\n",
    "val_loader = DataLoader(val_dataset, batch_size=32, shuffle=False, num_workers=4, pin_memory=True)\n",
    "test_loader = DataLoader(test_dataset, batch_size=32, shuffle=False, num_workers=4, pin_memory=True)\n",
    "\n",
    "classes_str = \", \".join(f\"{cls}\" for cls in dataset.classes)\n",
    "print(f\"Training samples: {len(train_dataset)} (70%)\")\n",
    "print(f\"Validation samples: {len(val_dataset)} (15%)\")\n",
    "print(f\"Test samples: {len(test_dataset)} (15%)\")\n",
    "print(f\"Number of classes: {len(dataset.classes)}\")\n",
    "print(f\"Classes: {classes_str}\")"
   ],
   "id": "130079ac36220e76",
   "outputs": [
    {
     "name": "stdout",
     "output_type": "stream",
     "text": [
      "Training samples: 42000 (70%)\n",
      "Validation samples: 9000 (15%)\n",
      "Test samples: 9000 (15%)\n",
      "Number of classes: 10\n",
      "Classes: T-shirt/top, Trouser, Pullover, Dress, Coat, Sandal, Shirt, Sneaker, Bag, Ankle boot\n"
     ]
    }
   ],
   "execution_count": 71
  },
  {
   "metadata": {},
   "cell_type": "markdown",
   "source": [
    "## Display sample images from the training set\n",
    "\n",
    "- Retrieve a batch of images and labels from the training DataLoader\n",
    "- Display 10 sample images in a 2x5 grid\n",
    "- Rearrange tensor from (C, H, W) to (H, W, C) for proper visualization\n",
    "- Show corresponding class names as titles\n",
    "- Hide axes for a cleaner look"
   ],
   "id": "7e0d1429f79221a5"
  },
  {
   "metadata": {
    "ExecuteTime": {
     "end_time": "2025-10-05T17:16:04.571129Z",
     "start_time": "2025-10-05T17:15:52.322667Z"
    }
   },
   "cell_type": "code",
   "source": [
    "examples, labels = next(iter(train_loader))\n",
    "fig, axes = plt.subplots(2, 5, figsize=(8, 3))\n",
    "for i, ax in enumerate(axes.flat):\n",
    "    img = examples[i].permute(1, 2, 0)\n",
    "    ax.imshow(img)\n",
    "    ax.set_title(dataset.classes[labels[i]])\n",
    "    ax.axis(\"off\")\n",
    "plt.tight_layout()\n",
    "plt.show()"
   ],
   "id": "c1c2ea8651c110b1",
   "outputs": [
    {
     "data": {
      "text/plain": [
       "<Figure size 800x300 with 10 Axes>"
      ],
      "image/png": "[encoded data removed]"
     },
     "metadata": {},
     "output_type": "display_data",
     "jetTransient": {
      "display_id": null
     }
    }
   ],
   "execution_count": 72
  }
 ],
 "metadata": {
  "kernelspec": {
   "display_name": "Python 3",
   "language": "python",
   "name": "python3"
  },
  "language_info": {
   "codemirror_mode": {
    "name": "ipython",
    "version": 2
   },
   "file_extension": ".py",
   "mimetype": "text/x-python",
   "name": "python",
   "nbconvert_exporter": "python",
   "pygments_lexer": "ipython2",
   "version": "2.7.6"
  }
 },
 "nbformat": 4,
 "nbformat_minor": 5
}
